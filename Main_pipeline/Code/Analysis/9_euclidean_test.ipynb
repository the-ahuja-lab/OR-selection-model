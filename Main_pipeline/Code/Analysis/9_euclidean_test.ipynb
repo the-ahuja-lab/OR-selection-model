{
 "cells": [
  {
   "cell_type": "code",
   "execution_count": 15,
   "metadata": {},
   "outputs": [],
   "source": [
    "import pandas as pd\n",
    "import matplotlib.pyplot as plt\n",
    "import os\n",
    "import numpy as np"
   ]
  },
  {
   "cell_type": "code",
   "execution_count": 16,
   "metadata": {},
   "outputs": [],
   "source": [
    "os.chdir('/home/sidrah19220/nmd/loomfiles/randomization/wild/euclidean')"
   ]
  },
  {
   "cell_type": "code",
   "execution_count": 17,
   "metadata": {},
   "outputs": [],
   "source": [
    "eud = pd.read_csv('matrix-1-euclidean-correlation.csv', index_col =0)\n",
    "exp = pd.read_csv('matrix-5-Expression.csv', index_col = 0)"
   ]
  },
  {
   "cell_type": "markdown",
   "metadata": {},
   "source": [
    "FINDING MATURE - IMMATURE PAIR OF ORs "
   ]
  },
  {
   "cell_type": "code",
   "execution_count": 18,
   "metadata": {},
   "outputs": [],
   "source": [
    "ors=list(exp.columns.values.tolist())\n",
    "cells=exp.index.values\n",
    "#exp.index = cells\n",
    "tr_exp=exp.T"
   ]
  },
  {
   "cell_type": "code",
   "execution_count": 19,
   "metadata": {},
   "outputs": [],
   "source": [
    "all_ors={}\n",
    "zero_exp=[]\n",
    "for cell in cells:\n",
    "  all_ors[cell]=[]\n",
    "  cell_exps=sorted(tr_exp[cell].tolist(), reverse=True)\n",
    "  if cell_exps[0]>0:\n",
    "    if tr_exp[cell].tolist().count(max(cell_exps)) > 8:\n",
    "      for i in range(tr_exp[cell].tolist().count(max(tr_exp[cell]))):\n",
    "        all_ors[cell].append(tr_exp.sort_values(by=cell, ascending=False).index[i])\n",
    "    else:\n",
    "      for i in range(8):\n",
    "        if cell_exps[i]>0:\n",
    "          all_ors[cell].append(tr_exp.sort_values(by=cell, ascending=False).index[i])\n",
    "  else:\n",
    "    zero_exp.append(cell)"
   ]
  },
  {
   "cell_type": "code",
   "execution_count": null,
   "metadata": {},
   "outputs": [],
   "source": []
  },
  {
   "cell_type": "code",
   "execution_count": 20,
   "metadata": {},
   "outputs": [],
   "source": [
    "cell_imt={}\n",
    "cell_imm={}\n",
    "cell_mat={}\n",
    "for key,value in all_ors.items():\n",
    "  if key.startswith(\"IMT\"):\n",
    "    cell_imt[key]=[]\n",
    "    for val in value:\n",
    "      if val.startswith(\"Olfm\"):\n",
    "        continue\n",
    "      else:\n",
    "        cell_imt[key].append(val)\n",
    "  if key.startswith(\"MA\"):\n",
    "    cell_mat[key]=[]\n",
    "    for val in value:\n",
    "      if val.startswith(\"Olfm\"):\n",
    "        continue\n",
    "      else:\n",
    "        cell_mat[key].append(val)\n",
    "  if key.startswith(\"IMM\"):\n",
    "    for val in value:\n",
    "      cell_imm[key]=[]\n",
    "      if val.startswith(\"Olfm\"):\n",
    "        continue\n",
    "      else:\n",
    "        cell_imm[key].append(val)\n"
   ]
  },
  {
   "cell_type": "code",
   "execution_count": null,
   "metadata": {},
   "outputs": [],
   "source": []
  },
  {
   "cell_type": "code",
   "execution_count": 7,
   "metadata": {},
   "outputs": [
    {
     "data": {
      "text/plain": [
       "1559"
      ]
     },
     "execution_count": 7,
     "metadata": {},
     "output_type": "execute_result"
    }
   ],
   "source": [
    "import random\n",
    "random_cell={}\n",
    "for key,values in cell_mat.items():\n",
    "    if len(values)==0:\n",
    "        continue\n",
    "    else:\n",
    "        random_cell[key]=values\n",
    "len(random_cell.keys())"
   ]
  },
  {
   "cell_type": "code",
   "execution_count": 21,
   "metadata": {},
   "outputs": [],
   "source": [
    "cell_imm_imt={}\n",
    "for key,value in all_ors.items():\n",
    "  if key.startswith(\"IM\"):\n",
    "    cell_imm_imt[key]=[]\n",
    "    for val in value:\n",
    "      if val.startswith(\"Olfm\"):\n",
    "        continue\n",
    "      else:\n",
    "        cell_imm_imt[key].append(val)"
   ]
  },
  {
   "cell_type": "code",
   "execution_count": 22,
   "metadata": {},
   "outputs": [],
   "source": [
    "di1={}\n",
    "for key,value in cell_imm_imt.items():\n",
    "  di2={}\n",
    "  if len(value)<1:\n",
    "    continue\n",
    "  else:\n",
    "    for val in value:\n",
    "      di2[val]=tr_exp[key][val]\n",
    "    di1[key]=di2"
   ]
  },
  {
   "cell_type": "code",
   "execution_count": null,
   "metadata": {},
   "outputs": [],
   "source": []
  },
  {
   "cell_type": "code",
   "execution_count": 29,
   "metadata": {},
   "outputs": [],
   "source": [
    "#for additional point4 to extract unique number of paired immature and transition\n",
    "''''lis=[]\n",
    "for key in di1.keys(): \n",
    "        lis.append(key)"
   ]
  },
  {
   "cell_type": "code",
   "execution_count": 35,
   "metadata": {},
   "outputs": [],
   "source": [
    "''''tran =0\n",
    "imm = 0\n",
    "trans=[]\n",
    "immat =[]\n",
    "for k in lis:\n",
    "    if k.startswith('IMT'):\n",
    "        if k not in trans:\n",
    "            trans.append(k)\n",
    "            tran = tran+1\n",
    "    if k.startswith('IMMA'):\n",
    "        if k not in immat:\n",
    "            immat.append(k)\n",
    "            imm = imm +1"
   ]
  },
  {
   "cell_type": "code",
   "execution_count": 41,
   "metadata": {},
   "outputs": [
    {
     "data": {
      "text/plain": [
       "214"
      ]
     },
     "execution_count": 41,
     "metadata": {},
     "output_type": "execute_result"
    }
   ],
   "source": [
    "tran"
   ]
  },
  {
   "cell_type": "code",
   "execution_count": 42,
   "metadata": {},
   "outputs": [
    {
     "data": {
      "text/plain": [
       "214"
      ]
     },
     "execution_count": 42,
     "metadata": {},
     "output_type": "execute_result"
    }
   ],
   "source": [
    "len(trans)"
   ]
  },
  {
   "cell_type": "code",
   "execution_count": 43,
   "metadata": {},
   "outputs": [
    {
     "data": {
      "text/plain": [
       "261"
      ]
     },
     "execution_count": 43,
     "metadata": {},
     "output_type": "execute_result"
    }
   ],
   "source": [
    "imm"
   ]
  },
  {
   "cell_type": "code",
   "execution_count": null,
   "metadata": {},
   "outputs": [],
   "source": []
  },
  {
   "cell_type": "code",
   "execution_count": null,
   "metadata": {},
   "outputs": [],
   "source": []
  },
  {
   "cell_type": "code",
   "execution_count": 10,
   "metadata": {},
   "outputs": [],
   "source": [
    "with open(\"Out_data_eud.csv\",\"w\")as fout:\n",
    "  fout.write(\"Olfactory Receptor,Mature Cell ID,Immature/Transition Cell ID, ED,Dist. Rank,Receptor Expression Rank,Receptor Expression,Expression Diffrence from rank1\\n\")\n",
    "  empty_mat=[]\n",
    "  mat_cell=eud.index\n",
    "  imm_imt_cells=list(eud.columns.values.tolist())\n",
    "  for i in range(len(mat_cell)):\n",
    "    mat1={}\n",
    "    for j in range(len(imm_imt_cells)):\n",
    "      mat1[eud.iloc[i][j]]=imm_imt_cells[j]\n",
    "    euds=sorted(mat1.keys(), reverse=False)\n",
    "    for j in range(len(euds)):\n",
    "      if len(cell_mat[mat_cell[i]])==0:\n",
    "        empty_mat.append(mat_cell[i])\n",
    "      else:\n",
    "        if cell_mat[mat_cell[i]][0] in cell_imm_imt[mat1[euds[j]]]:\n",
    "          for k in range(len(cell_imm_imt[mat1[euds[j]]])):\n",
    "            if cell_imm_imt[mat1[euds[j]]][k]==cell_mat[mat_cell[i]][0]:\n",
    "              #print(cell_imm_imt[mat1[euds[j]]][k],mat_cell[i],mat1[euds[j]],euds[j],k,di1[mat1[euds[j]]][cell_imm_imt[mat1[euds[j]]][k]])\n",
    "              fout.write(str(cell_imm_imt[mat1[euds[j]]][k])+','+str(mat_cell[i])+','+str(mat1[euds[j]])+','+str(euds[j])+','+str(j)+','+str(k)+','+str(di1[mat1[euds[j]]][cell_imm_imt[mat1[euds[j]]][k]])+','+str((di1[mat1[euds[j]]][cell_imm_imt[mat1[euds[j]]][0]])-di1[mat1[euds[j]]][cell_imm_imt[mat1[euds[j]]][k]])+'\\n')"
   ]
  },
  {
   "cell_type": "markdown",
   "metadata": {},
   "source": [
    "Finding different quantiles"
   ]
  },
  {
   "cell_type": "code",
   "execution_count": 11,
   "metadata": {},
   "outputs": [],
   "source": [
    "eu = eud"
   ]
  },
  {
   "cell_type": "code",
   "execution_count": 12,
   "metadata": {},
   "outputs": [],
   "source": [
    "li = [0.01, 0.02, 0.05, 0.1, 0.2, 0.3, 0.5, 0.6, 0.7, 0.8, 0.9, 1]\n",
    "for ki in li:\n",
    "    q = eu.quantile(ki , axis = 1)\n",
    "    q1 = q.tolist()\n",
    "    qq = pd.DataFrame(q)\n",
    "\n",
    "    idd = eu.index.tolist()\n",
    "    ccl = eu.columns.tolist()\n",
    "    d4=dict.fromkeys(idd)\n",
    "\n",
    "    #loop to generate imm cells\n",
    "    k = []\n",
    "    for i in range(len(idd)):\n",
    "        for j in range(len(ccl)):\n",
    "            if eu.iloc[i][j] < q1[i]:\n",
    "                k.append(ccl[j])\n",
    "        d4[idd[i]] = k\n",
    "        k=[]\n",
    "\n",
    "    p = []\n",
    "    for i in idd:\n",
    "        p.append(len(d4[i]))\n",
    "    cells = pd.DataFrame.from_dict(d4, orient='index')\n",
    "    cells.to_csv(str(ki)+'percentile_euc_total_immature.csv')"
   ]
  },
  {
   "cell_type": "code",
   "execution_count": null,
   "metadata": {},
   "outputs": [],
   "source": []
  },
  {
   "cell_type": "markdown",
   "metadata": {},
   "source": [
    "READING PERCENTILE FILES AND INTERSECTION"
   ]
  },
  {
   "cell_type": "code",
   "execution_count": 13,
   "metadata": {},
   "outputs": [],
   "source": [
    "p1 = pd.read_csv('0.01percentile_euc_total_immature.csv', index_col = 0)\n",
    "p2 = pd.read_csv('0.02percentile_euc_total_immature.csv', index_col = 0)\n",
    "p5 = pd.read_csv('0.05percentile_euc_total_immature.csv', index_col=0)\n",
    "p10 = pd.read_csv('0.1percentile_euc_total_immature.csv', index_col =0)\n",
    "p20 = pd.read_csv('0.2percentile_euc_total_immature.csv', index_col =0)\n",
    "p30 = pd.read_csv('0.3percentile_euc_total_immature.csv', index_col =0)\n",
    "p50 = pd.read_csv('0.5percentile_euc_total_immature.csv', index_col =0)\n",
    "p60 = pd.read_csv('0.6percentile_euc_total_immature.csv', index_col =0)\n",
    "p70 = pd.read_csv('0.7percentile_euc_total_immature.csv', index_col =0)\n",
    "p80 = pd.read_csv('0.8percentile_euc_total_immature.csv', index_col =0)\n",
    "p90 = pd.read_csv('0.9percentile_euc_total_immature.csv', index_col =0)\n",
    "p100 = pd.read_csv('1percentile_euc_total_immature.csv', index_col =0)"
   ]
  },
  {
   "cell_type": "code",
   "execution_count": 23,
   "metadata": {},
   "outputs": [],
   "source": [
    "o = pd.read_csv('Out_data_eud.csv')"
   ]
  },
  {
   "cell_type": "code",
   "execution_count": 15,
   "metadata": {},
   "outputs": [],
   "source": [
    "dictt={}\n",
    "v =  o['Mature Cell ID'].tolist()\n",
    "v2 = o['Immature/Transition Cell ID'].tolist()\n",
    "for indx in range(len(v)):\n",
    "    if v[indx]==v[indx-1]:\n",
    "        dictt[v[indx]].append(v2[indx])\n",
    "    else:\n",
    "        dictt[v[indx]]=[]\n",
    "        dictt[v[indx]].append(v2[indx])"
   ]
  },
  {
   "cell_type": "code",
   "execution_count": 16,
   "metadata": {},
   "outputs": [],
   "source": [
    "ke=[]\n",
    "for key in dictt:\n",
    "    ke.append(key)\n",
    "pp1 = p1.loc[ke].T\n",
    "pp2 = p2.loc[ke].T\n",
    "pp5 = p5.loc[ke].T\n",
    "pp10 = p10.loc[ke].T\n",
    "pp20 = p20.loc[ke].T\n",
    "pp30 = p30.loc[ke].T\n",
    "pp50 = p50.loc[ke].T\n",
    "pp60 = p60.loc[ke].T\n",
    "pp70 = p70.loc[ke].T\n",
    "pp80 = p80.loc[ke].T\n",
    "pp90 = p90.loc[ke].T\n",
    "pp100 = p100.loc[ke].T"
   ]
  },
  {
   "cell_type": "code",
   "execution_count": null,
   "metadata": {},
   "outputs": [],
   "source": []
  },
  {
   "cell_type": "code",
   "execution_count": 50,
   "metadata": {},
   "outputs": [],
   "source": [
    "ppp1 = pp100.to_dict('list')"
   ]
  },
  {
   "cell_type": "code",
   "execution_count": 51,
   "metadata": {},
   "outputs": [],
   "source": [
    "dup = pd.read_csv('Out_data_eud.csv')\n",
    "stat=[]\n",
    "for i in range(0,len(dup['Immature/Transition Cell ID'])):\n",
    "    if dup['Immature/Transition Cell ID'][i] in ppp1[dup['Mature Cell ID'][i]]:\n",
    "        stat.append('Positive')\n",
    "    else:\n",
    "        stat.append('Negative')\n",
    "        \n",
    "dup['status'] = stat\n",
    "#dup.to_csv('Final_spl_10q.csv')\n",
    "dup.to_csv('1percentile_neg_pos_out_data.csv')"
   ]
  },
  {
   "cell_type": "code",
   "execution_count": 52,
   "metadata": {},
   "outputs": [],
   "source": [
    "euk = dup[(dup['status']=='Positive') & (dup['Expression Diffrence from rank1']==0)]\n",
    "euk.to_csv('1_final_res.csv')"
   ]
  },
  {
   "cell_type": "markdown",
   "metadata": {},
   "source": [
    "# AFTER BOXPLOT DATA"
   ]
  },
  {
   "cell_type": "code",
   "execution_count": 53,
   "metadata": {},
   "outputs": [],
   "source": [
    "DF4=pd.DataFrame()"
   ]
  },
  {
   "cell_type": "markdown",
   "metadata": {},
   "source": [
    "Calculating xa"
   ]
  },
  {
   "cell_type": "code",
   "execution_count": 105,
   "metadata": {},
   "outputs": [
    {
     "name": "stdout",
     "output_type": "stream",
     "text": [
      "0    2486\n",
      "1       4\n",
      "dtype: int64\n"
     ]
    }
   ],
   "source": [
    "x = pd.read_csv('0.02_final_res.csv', index_col = 0)\n",
    "o = pd.read_csv('Out_data_eud.csv', index_col =0)\n",
    "eu = pd.read_csv('matrix-1-euclidean-correlation.csv', index_col =0)\n",
    "mat_uniq = eu.index.tolist()\n",
    "dictt={}\n",
    "v =  x['Mature Cell ID'].tolist()\n",
    "v2 = x['Immature/Transition Cell ID'].tolist()\n",
    "\n",
    "for indx in range(len(v)):\n",
    "    if v[indx]==v[indx-1]:\n",
    "        \n",
    "        dictt[v[indx]].append(v2[indx])\n",
    "    else:\n",
    "        dictt[v[indx]]=[]\n",
    "        dictt[v[indx]].append(v2[indx])\n",
    "xa_dict={}\n",
    "for ma in mat_uniq:\n",
    "    if ma in dictt.keys():\n",
    "        xa_dict[ma]=len(dictt[ma])\n",
    "    else:\n",
    "        xa_dict[ma]=0\n",
    "df2 = pd.DataFrame.from_dict(xa_dict, orient='index')\n",
    "print(df2.value_counts())"
   ]
  },
  {
   "cell_type": "markdown",
   "metadata": {},
   "source": [
    "CALCULATING X"
   ]
  },
  {
   "cell_type": "code",
   "execution_count": 106,
   "metadata": {},
   "outputs": [
    {
     "name": "stdout",
     "output_type": "stream",
     "text": [
      "0    2484\n",
      "1       6\n",
      "dtype: int64\n"
     ]
    }
   ],
   "source": [
    "pos_neg = pd.read_csv('0.02percentile_neg_pos_out_data.csv')\n",
    "pos_neg2 = pos_neg[pos_neg['status'] == 'Positive']\n",
    "dictt2={}\n",
    "v =  pos_neg2['Mature Cell ID'].tolist()\n",
    "v2 = pos_neg2['Immature/Transition Cell ID'].tolist()\n",
    "\n",
    "for indx in range(len(v)):\n",
    "    if v[indx]==v[indx-1]:\n",
    "        \n",
    "        dictt2[v[indx]].append(v2[indx])\n",
    "    else:\n",
    "        dictt2[v[indx]]=[]\n",
    "        dictt2[v[indx]].append(v2[indx])\n",
    "        \n",
    "x_dict={}\n",
    "for ma in mat_uniq:\n",
    "    if ma in dictt2.keys():\n",
    "        x_dict[ma]=len(dictt2[ma])\n",
    "    else:\n",
    "        x_dict[ma]=0\n",
    "        \n",
    "df3 = pd.DataFrame.from_dict(x_dict, orient='index')\n",
    "print(df3.value_counts())\n",
    "df3.columns = ['x']"
   ]
  },
  {
   "cell_type": "markdown",
   "metadata": {},
   "source": [
    "CALCULATING Y"
   ]
  },
  {
   "cell_type": "code",
   "execution_count": 107,
   "metadata": {},
   "outputs": [
    {
     "name": "stdout",
     "output_type": "stream",
     "text": [
      "9\n"
     ]
    }
   ],
   "source": [
    "percentile = pd.read_csv('0.02percentile_euc_total_immature.csv', index_col =0)\n",
    "xny=len(percentile.columns.values.tolist())\n",
    "print(xny)\n",
    "if len(percentile.index.values.tolist())==len(df3):\n",
    "    df3['y'] = xny - df3['x'] \n",
    "xa = df2[0].values.tolist()\n",
    "df3['xa'] = xa\n",
    "df3['xay'] = df3['xa']/df3['y']\n",
    "df3.to_csv('2percentile_boxplot.csv')\n"
   ]
  },
  {
   "cell_type": "code",
   "execution_count": 102,
   "metadata": {},
   "outputs": [],
   "source": [
    "DF4['100p']=df3['xay']"
   ]
  },
  {
   "cell_type": "code",
   "execution_count": 811,
   "metadata": {},
   "outputs": [],
   "source": [
    "#DF4 = DF4.drop(['90P'], axis =1)"
   ]
  },
  {
   "cell_type": "markdown",
   "metadata": {},
   "source": [
    "# SAVING BOXPLOT FILE FINALLY"
   ]
  },
  {
   "cell_type": "code",
   "execution_count": 108,
   "metadata": {},
   "outputs": [],
   "source": [
    "DF4.to_csv('plot_boxplot_euclidean.csv')"
   ]
  },
  {
   "cell_type": "code",
   "execution_count": 109,
   "metadata": {},
   "outputs": [
    {
     "data": {
      "text/plain": [
       "<AxesSubplot:>"
      ]
     },
     "execution_count": 109,
     "metadata": {},
     "output_type": "execute_result"
    },
    {
     "data": {
      "image/png": "[encoded data removed]",
      "text/plain": [
       "<Figure size 432x288 with 1 Axes>"
      ]
     },
     "metadata": {
      "needs_background": "light"
     },
     "output_type": "display_data"
    }
   ],
   "source": [
    "DF4.boxplot()"
   ]
  },
  {
   "cell_type": "code",
   "execution_count": 110,
   "metadata": {},
   "outputs": [],
   "source": [
    "p  = o.drop_duplicates(subset = 'Mature Cell ID', keep = 'first')['Mature Cell ID'].tolist()"
   ]
  },
  {
   "cell_type": "code",
   "execution_count": 111,
   "metadata": {},
   "outputs": [
    {
     "data": {
      "image/png": "[encoded data removed]",
      "text/plain": [
       "<Figure size 432x288 with 1 Axes>"
      ]
     },
     "metadata": {
      "needs_background": "light"
     },
     "output_type": "display_data"
    }
   ],
   "source": [
    "DF4.loc[p].boxplot()\n",
    "plt.xlabel('percentile')\n",
    "plt.ylabel('Xa/y')\n",
    "plt.title('Normalised data')\n",
    "plt.savefig('normalised_data_euclidean.pdf')"
   ]
  },
  {
   "cell_type": "code",
   "execution_count": null,
   "metadata": {},
   "outputs": [],
   "source": []
  },
  {
   "cell_type": "code",
   "execution_count": 24,
   "metadata": {},
   "outputs": [],
   "source": [
    "o_unique = o.drop_duplicates(subset = 'Mature Cell ID', keep ='first')\n",
    "mat_uniq= o_unique['Mature Cell ID'].values.tolist()"
   ]
  },
  {
   "cell_type": "code",
   "execution_count": null,
   "metadata": {},
   "outputs": [],
   "source": []
  },
  {
   "cell_type": "code",
   "execution_count": 113,
   "metadata": {},
   "outputs": [],
   "source": [
    "dictt={}\n",
    "v =  o['Mature Cell ID'].tolist()\n",
    "v2 = o['Immature/Transition Cell ID'].tolist()\n",
    "\n",
    "for indx in range(len(v)):\n",
    "    if v[indx]==v[indx-1]:\n",
    "        \n",
    "        dictt[v[indx]].append(v2[indx])\n",
    "    else:\n",
    "        dictt[v[indx]]=[]\n",
    "        dictt[v[indx]].append(v2[indx])"
   ]
  },
  {
   "cell_type": "code",
   "execution_count": null,
   "metadata": {},
   "outputs": [],
   "source": []
  },
  {
   "cell_type": "code",
   "execution_count": null,
   "metadata": {},
   "outputs": [],
   "source": []
  },
  {
   "cell_type": "code",
   "execution_count": 5,
   "metadata": {},
   "outputs": [],
   "source": [
    "f1 = pd.read_csv('0.01_final_res.csv')\n",
    "f2 = pd.read_csv('0.02_final_res.csv')\n",
    "f5 = pd.read_csv('0.05_final_res.csv')\n",
    "f10 = pd.read_csv('0.1_final_res.csv')\n",
    "f20 = pd.read_csv('0.2_final_res.csv')\n",
    "f30 = pd.read_csv('0.3_final_res.csv')\n",
    "f50 = pd.read_csv('0.5_final_res.csv')\n",
    "f60 = pd.read_csv('0.6_final_res.csv')\n",
    "f70 = pd.read_csv('0.7_final_res.csv')\n",
    "f80 = pd.read_csv('0.8_final_res.csv')\n",
    "f90 = pd.read_csv('0.9_final_res.csv')\n",
    "f100 = pd.read_csv('1_final_res.csv')\n"
   ]
  },
  {
   "cell_type": "code",
   "execution_count": 6,
   "metadata": {},
   "outputs": [],
   "source": [
    "liii=[f1, f2, f5, f10, f20, f30, f50, f60, f70, f80, f90, f100]\n",
    "valss=[]\n",
    "for i in liii:\n",
    "    valss.append(len(i))"
   ]
  },
  {
   "cell_type": "code",
   "execution_count": 7,
   "metadata": {},
   "outputs": [
    {
     "data": {
      "image/png": "[encoded data removed]",
      "text/plain": [
       "<Figure size 432x288 with 1 Axes>"
      ]
     },
     "metadata": {
      "needs_background": "light"
     },
     "output_type": "display_data"
    }
   ],
   "source": [
    "x = ['1p', '2p', '5p', '10p', '20p', '30p', '50p', '60p', '70p', '80p', '90p', '100p']\n",
    "plt.bar(x,valss)\n",
    "plt.title('Count of hits')\n",
    "plt.xlabel('percentile')\n",
    "plt.ylabel('# of cells')\n",
    "plt.savefig('number of hits euclidean.pdf')"
   ]
  },
  {
   "cell_type": "markdown",
   "metadata": {},
   "source": [
    "UNIQUE COUNT GRAPH"
   ]
  },
  {
   "cell_type": "code",
   "execution_count": 8,
   "metadata": {},
   "outputs": [],
   "source": [
    "unique_f1 = f1.drop_duplicates(subset = 'Mature Cell ID', keep = 'first')\n",
    "unique_f2 = f2.drop_duplicates(subset = 'Mature Cell ID', keep = 'first')\n",
    "unique_f5 = f5.drop_duplicates(subset = 'Mature Cell ID', keep = 'first')\n",
    "unique_f10 = f10.drop_duplicates(subset = 'Mature Cell ID', keep = 'first')\n",
    "unique_f20 = f20.drop_duplicates(subset = 'Mature Cell ID', keep = 'first')\n",
    "unique_f30 = f30.drop_duplicates(subset = 'Mature Cell ID', keep = 'first')\n",
    "unique_f50 = f50.drop_duplicates(subset = 'Mature Cell ID', keep = 'first')\n",
    "unique_f60 = f60.drop_duplicates(subset = 'Mature Cell ID', keep = 'first')\n",
    "unique_f70 = f70.drop_duplicates(subset = 'Mature Cell ID', keep = 'first')\n",
    "unique_f80 = f80.drop_duplicates(subset = 'Mature Cell ID', keep = 'first')\n",
    "unique_f90 = f90.drop_duplicates(subset = 'Mature Cell ID', keep = 'first')\n",
    "unique_f100 = f100.drop_duplicates(subset = 'Mature Cell ID', keep = 'first')\n"
   ]
  },
  {
   "cell_type": "code",
   "execution_count": 9,
   "metadata": {},
   "outputs": [
    {
     "data": {
      "text/plain": [
       "4"
      ]
     },
     "execution_count": 9,
     "metadata": {},
     "output_type": "execute_result"
    }
   ],
   "source": [
    "len(unique_f1)"
   ]
  },
  {
   "cell_type": "code",
   "execution_count": 10,
   "metadata": {},
   "outputs": [],
   "source": [
    "liii=[unique_f1, unique_f2, unique_f5, unique_f10, unique_f20, unique_f30, unique_f50, unique_f60, unique_f70, unique_f80,\n",
    "      unique_f90, unique_f100]\n",
    "valss_unique=[]\n",
    "for i in liii:\n",
    "    valss_unique.append(len(i))"
   ]
  },
  {
   "cell_type": "code",
   "execution_count": 14,
   "metadata": {},
   "outputs": [
    {
     "data": {
      "text/plain": [
       "[4, 20, 60, 123, 239, 309, 439, 504, 561, 612, 656, 693]"
      ]
     },
     "execution_count": 14,
     "metadata": {},
     "output_type": "execute_result"
    }
   ],
   "source": [
    "valss_unique"
   ]
  },
  {
   "cell_type": "code",
   "execution_count": 11,
   "metadata": {},
   "outputs": [
    {
     "data": {
      "image/png": "[encoded data removed]",
      "text/plain": [
       "<Figure size 432x288 with 1 Axes>"
      ]
     },
     "metadata": {
      "needs_background": "light"
     },
     "output_type": "display_data"
    }
   ],
   "source": [
    "x = ['1p', '2p', '5p', '10p', '20p', '30p', '50p', '60p', '70p', '80p', '90p', '100p']\n",
    "plt.bar(x,valss_unique)\n",
    "plt.title('Count of unique hits')\n",
    "plt.xlabel('percentile')\n",
    "plt.ylabel('# of cells')\n",
    "plt.savefig('number of unique hits euclidean.pdf')"
   ]
  },
  {
   "cell_type": "code",
   "execution_count": 12,
   "metadata": {},
   "outputs": [],
   "source": [
    "valssf=[]\n",
    "for v in valss_unique:\n",
    "    valssf.append((v/1559)*100)"
   ]
  },
  {
   "cell_type": "code",
   "execution_count": 13,
   "metadata": {},
   "outputs": [
    {
     "data": {
      "text/plain": [
       "[0.2565747273893521,\n",
       " 1.2828736369467608,\n",
       " 3.8486209108402822,\n",
       " 7.889672867222579,\n",
       " 15.330339961513792,\n",
       " 19.820397690827456,\n",
       " 28.159076330981396,\n",
       " 32.32841565105837,\n",
       " 35.98460551635664,\n",
       " 39.25593329057088,\n",
       " 42.07825529185375,\n",
       " 44.451571520205256]"
      ]
     },
     "execution_count": 13,
     "metadata": {},
     "output_type": "execute_result"
    }
   ],
   "source": [
    "valssf"
   ]
  },
  {
   "cell_type": "code",
   "execution_count": 54,
   "metadata": {},
   "outputs": [
    {
     "data": {
      "text/plain": [
       "([<matplotlib.axis.YTick at 0x7f7a3c1532e0>,\n",
       "  <matplotlib.axis.YTick at 0x7f7a3c0b8df0>,\n",
       "  <matplotlib.axis.YTick at 0x7f7a3c1dd130>,\n",
       "  <matplotlib.axis.YTick at 0x7f7a3c006910>,\n",
       "  <matplotlib.axis.YTick at 0x7f7a3c006e20>,\n",
       "  <matplotlib.axis.YTick at 0x7f7a3c018370>],\n",
       " [Text(0, 0.0, '0'),\n",
       "  Text(0, 10.0, '10'),\n",
       "  Text(0, 20.0, '20'),\n",
       "  Text(0, 30.0, '30'),\n",
       "  Text(0, 40.0, '40'),\n",
       "  Text(0, 50.0, '50')])"
      ]
     },
     "execution_count": 54,
     "metadata": {},
     "output_type": "execute_result"
    },
    {
     "data": {
      "image/png": "[encoded data removed]",
      "text/plain": [
       "<Figure size 432x288 with 1 Axes>"
      ]
     },
     "metadata": {
      "needs_background": "light"
     },
     "output_type": "display_data"
    }
   ],
   "source": [
    "plt.bar(x,valssf)\n",
    "plt.title('Percentage of unique counts')\n",
    "plt.xlabel('Percentile')\n",
    "plt.ylabel('Percentage')\n",
    "plt.savefig('percentage')\n",
    "plt.yticks([0, 20, 40, 60, 80, 100])"
   ]
  },
  {
   "cell_type": "code",
   "execution_count": null,
   "metadata": {},
   "outputs": [],
   "source": []
  },
  {
   "cell_type": "code",
   "execution_count": null,
   "metadata": {},
   "outputs": [],
   "source": []
  },
  {
   "cell_type": "code",
   "execution_count": null,
   "metadata": {},
   "outputs": [],
   "source": []
  },
  {
   "cell_type": "code",
   "execution_count": null,
   "metadata": {},
   "outputs": [],
   "source": []
  },
  {
   "cell_type": "markdown",
   "metadata": {},
   "source": [
    "LAST GRAPH"
   ]
  },
  {
   "cell_type": "code",
   "execution_count": 55,
   "metadata": {},
   "outputs": [],
   "source": [
    "list1 = [unique_f1, unique_f2, unique_f5, unique_f10, unique_f20, unique_f30, unique_f50, unique_f60, unique_f70, \n",
    "         unique_f80, unique_f90, unique_f100]"
   ]
  },
  {
   "cell_type": "code",
   "execution_count": 56,
   "metadata": {},
   "outputs": [],
   "source": [
    "graph1 =[]\n",
    "for mature_cell in list1:\n",
    "    graph1.append(len(mature_cell)/(1559-len(mature_cell)))"
   ]
  },
  {
   "cell_type": "code",
   "execution_count": 893,
   "metadata": {},
   "outputs": [],
   "source": []
  },
  {
   "cell_type": "code",
   "execution_count": 63,
   "metadata": {},
   "outputs": [
    {
     "data": {
      "image/png": "[encoded data removed]",
      "text/plain": [
       "<Figure size 432x288 with 1 Axes>"
      ]
     },
     "metadata": {
      "needs_background": "light"
     },
     "output_type": "display_data"
    }
   ],
   "source": [
    "xaxis = ['1p', '2p', '5p','10p', '20p', '30p', '50p', '60p', '70p', '80p', '90p', '100p']\n",
    "plt.bar(xaxis,graph1)\n",
    "plt.title('Ratio of test results')\n",
    "plt.xlabel('percentile')\n",
    "plt.ylabel('Ratio (Hit positives/ (Total positives-Hit positives))')\n",
    "plt.savefig('ratio graph.pdf')"
   ]
  },
  {
   "cell_type": "code",
   "execution_count": 65,
   "metadata": {},
   "outputs": [
    {
     "data": {
      "text/plain": [
       "[0.002572347266881029,\n",
       " 0.01299545159194282,\n",
       " 0.0400266844563042,\n",
       " 0.08565459610027855,\n",
       " 0.18106060606060606,\n",
       " 0.2472,\n",
       " 0.3919642857142857,\n",
       " 0.4777251184834123,\n",
       " 0.5621242484969939,\n",
       " 0.6462513199577613,\n",
       " 0.7264673311184939,\n",
       " 0.8002309468822171]"
      ]
     },
     "execution_count": 65,
     "metadata": {},
     "output_type": "execute_result"
    }
   ],
   "source": [
    "graph1"
   ]
  },
  {
   "cell_type": "markdown",
   "metadata": {},
   "source": [
    "% graph"
   ]
  },
  {
   "cell_type": "code",
   "execution_count": 58,
   "metadata": {},
   "outputs": [],
   "source": [
    "list2 = graph1\n",
    "graph2 =[]\n",
    "for mature_cell in list2:\n",
    "    graph2.append((mature_cell/1559)*100)"
   ]
  },
  {
   "cell_type": "code",
   "execution_count": 59,
   "metadata": {},
   "outputs": [
    {
     "data": {
      "image/png": "[encoded data removed]",
      "text/plain": [
       "<Figure size 432x288 with 1 Axes>"
      ]
     },
     "metadata": {
      "needs_background": "light"
     },
     "output_type": "display_data"
    }
   ],
   "source": [
    "xaxis = ['1p', '2p', '5p','10p', '20p', '30p', '50p', '60p', '70p', '80p', '90p', '100p']\n",
    "plt.bar(xaxis,graph2)\n",
    "plt.title('Percentage Ratio of positive hits to remaining positives')\n",
    "plt.xlabel('percentile')\n",
    "plt.ylabel('Ratio (Hit positives/ (Total positives-Hit positives))')\n",
    "plt.savefig('ratio graph percentage.pdf')"
   ]
  },
  {
   "cell_type": "code",
   "execution_count": null,
   "metadata": {},
   "outputs": [],
   "source": []
  }
 ],
 "metadata": {
  "kernelspec": {
   "display_name": "Python 3",
   "language": "python",
   "name": "python3"
  },
  "language_info": {
   "codemirror_mode": {
    "name": "ipython",
    "version": 3
   },
   "file_extension": ".py",
   "mimetype": "text/x-python",
   "name": "python",
   "nbconvert_exporter": "python",
   "pygments_lexer": "ipython3",
   "version": "3.8.5"
  }
 },
 "nbformat": 4,
 "nbformat_minor": 4
}
