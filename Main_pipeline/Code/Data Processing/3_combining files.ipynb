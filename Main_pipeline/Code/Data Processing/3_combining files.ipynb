{
 "cells": [
  {
   "cell_type": "code",
   "execution_count": 1,
   "metadata": {},
   "outputs": [],
   "source": [
    "import numpy as np\n",
    "import os\n",
    "import pandas as pd\n",
    "import seaborn as sns\n",
    "import matplotlib.pyplot as plt\n",
    "os.chdir(\"/home/sidrah19220/nmd/loomfiles/wild\")"
   ]
  },
  {
   "cell_type": "code",
   "execution_count": 3,
   "metadata": {},
   "outputs": [],
   "source": [
    "#reading umap files\n",
    "umap0 = pd.read_csv('umaptrans.csv', index_col = 0)\n",
    "umap1 = pd.read_csv('umapmature.csv', index_col = 0)\n",
    "umap4 = pd.read_csv('umapimmat.csv', index_col = 0)\n"
   ]
  },
  {
   "cell_type": "code",
   "execution_count": 13,
   "metadata": {},
   "outputs": [],
   "source": [
    "#changing transition cell barcodes to standard ID\n",
    "c0 = [\"IMT CELL\"+str(i) for i in range(1,309)]\n",
    "umap0.index = c0"
   ]
  },
  {
   "cell_type": "code",
   "execution_count": 16,
   "metadata": {},
   "outputs": [],
   "source": [
    "#changing mature cell barcodes to standard ID\n",
    "c1 = [\"MATURE CELL\"+str(i) for i in range(1,2251)]\n",
    "umap1.index = c1"
   ]
  },
  {
   "cell_type": "code",
   "execution_count": 18,
   "metadata": {},
   "outputs": [],
   "source": [
    "#changing immature cell barcodes to standard ID\n",
    "c = [\"IMMATURE CELL\"+str(i) for i in range(1,536)]\n",
    "umap4.index = c"
   ]
  },
  {
   "cell_type": "code",
   "execution_count": 19,
   "metadata": {},
   "outputs": [],
   "source": [
    "#concatenating all coordinates\n",
    "f = [umap1, umap0, umap4]\n",
    "df = pd.concat(f)\n",
    "df.to_csv('umap-coord.csv')"
   ]
  }
 ],
 "metadata": {
  "kernelspec": {
   "display_name": "Python 3",
   "language": "python",
   "name": "python3"
  },
  "language_info": {
   "codemirror_mode": {
    "name": "ipython",
    "version": 3
   },
   "file_extension": ".py",
   "mimetype": "text/x-python",
   "name": "python",
   "nbconvert_exporter": "python",
   "pygments_lexer": "ipython3",
   "version": "3.8.5"
  }
 },
 "nbformat": 4,
 "nbformat_minor": 2
}
