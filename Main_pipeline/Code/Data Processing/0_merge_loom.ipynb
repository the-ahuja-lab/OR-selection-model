{
 "cells": [
  {
   "cell_type": "code",
   "execution_count": 1,
   "metadata": {},
   "outputs": [],
   "source": [
    "#import libraries\n",
    "import loompy\n",
    "import os\n",
    "from os import listdir"
   ]
  },
  {
   "cell_type": "code",
   "execution_count": 6,
   "metadata": {},
   "outputs": [],
   "source": [
    "os.chdir(\"C:/sidrah/thesis/elifecells/nmd/loomfile/knock\")\n",
    "#list all files in the directory\n",
    "arr = os.listdir()\n",
    "arr"
   ]
  },
  {
   "cell_type": "code",
   "execution_count": 9,
   "metadata": {},
   "outputs": [
    {
     "name": "stderr",
     "output_type": "stream",
     "text": [
      "WARNING:root:╭── 'batch_scan_layers' is deprecated. Use 'scan' instead\n",
      "WARNING:root:╰──> at C:\\Users\\HP WORLD\\Anaconda3\\lib\\site-packages\\loompy\\loompy.py, line 465\n",
      "WARNING:root:╭── 'batch_scan_layers' is deprecated. Use 'scan' instead\n",
      "WARNING:root:╰──> at C:\\Users\\HP WORLD\\Anaconda3\\lib\\site-packages\\loompy\\loompy.py, line 465\n",
      "WARNING:root:╭── 'batch_scan_layers' is deprecated. Use 'scan' instead\n",
      "WARNING:root:╰──> at C:\\Users\\HP WORLD\\Anaconda3\\lib\\site-packages\\loompy\\loompy.py, line 465\n"
     ]
    }
   ],
   "source": [
    "#combine loom files\n",
    "loompy.combine(arr, \"knock_type.loom\", key=\"Accession\")"
   ]
  }
 ],
 "metadata": {
  "kernelspec": {
   "display_name": "Python 3",
   "language": "python",
   "name": "python3"
  },
  "language_info": {
   "codemirror_mode": {
    "name": "ipython",
    "version": 3
   },
   "file_extension": ".py",
   "mimetype": "text/x-python",
   "name": "python",
   "nbconvert_exporter": "python",
   "pygments_lexer": "ipython3",
   "version": "3.8.5"
  }
 },
 "nbformat": 4,
 "nbformat_minor": 2
}
