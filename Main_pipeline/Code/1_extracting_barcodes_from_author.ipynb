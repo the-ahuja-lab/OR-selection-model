{
 "cells": [
  {
   "cell_type": "code",
   "execution_count": 82,
   "metadata": {},
   "outputs": [],
   "source": [
    "import scvelo as scv\n",
    "import pandas as pd\n",
    "#import velocyto as vcy\n",
    "import time\n",
    "import scipy\n",
    "import pickle\n",
    "import numpy as np\n",
    "import pandas as pd\n",
    "import scanpy as scp\n",
    "import matplotlib\n",
    "import seaborn as sns\n",
    "import matplotlib.pyplot as plt"
   ]
  },
  {
   "cell_type": "code",
   "execution_count": 83,
   "metadata": {},
   "outputs": [],
   "source": [
    "import os\n",
    "os.chdir('/home/sidrah19220/nmd/loomfiles/authordata')"
   ]
  },
  {
   "cell_type": "code",
   "execution_count": 84,
   "metadata": {},
   "outputs": [],
   "source": [
    "meta = pd.read_csv('metadata 01272021.csv')"
   ]
  },
  {
   "cell_type": "markdown",
   "metadata": {},
   "source": [
    "wild_1"
   ]
  },
  {
   "cell_type": "code",
   "execution_count": 85,
   "metadata": {},
   "outputs": [],
   "source": [
    "wild1 = meta[meta['orig.ident'] == 'WT_1']"
   ]
  },
  {
   "cell_type": "code",
   "execution_count": 86,
   "metadata": {},
   "outputs": [],
   "source": [
    "wild1_mature = wild1[wild1['annotation'] == 'mOSN']\n",
    "wild1_immature = wild1[wild1['annotation'] == 'iOSN']"
   ]
  },
  {
   "cell_type": "code",
   "execution_count": 87,
   "metadata": {},
   "outputs": [],
   "source": [
    "a = wild1_mature['Unnamed: 0'].tolist()\n",
    "ad = [sub[:-8] for sub in a]\n",
    "add = [sub + '_WT1' for sub in ad]\n",
    "wild1_mature.index = add"
   ]
  },
  {
   "cell_type": "code",
   "execution_count": 88,
   "metadata": {},
   "outputs": [],
   "source": [
    "wild1_mature.to_csv('wild1_mature.csv')"
   ]
  },
  {
   "cell_type": "code",
   "execution_count": 89,
   "metadata": {},
   "outputs": [],
   "source": [
    "a = wild1_immature['Unnamed: 0'].tolist()\n",
    "ad = [sub[:-8] for sub in a]\n",
    "add = [sub + '_WT1' for sub in ad]\n",
    "wild1_immature.index = add"
   ]
  },
  {
   "cell_type": "code",
   "execution_count": 90,
   "metadata": {},
   "outputs": [],
   "source": [
    "wild1_immature.to_csv('wild1_immature.csv')"
   ]
  },
  {
   "cell_type": "markdown",
   "metadata": {},
   "source": [
    "WILD2"
   ]
  },
  {
   "cell_type": "code",
   "execution_count": 92,
   "metadata": {},
   "outputs": [],
   "source": [
    "wild2 = meta[meta['orig.ident'] == 'WT_2']"
   ]
  },
  {
   "cell_type": "code",
   "execution_count": 93,
   "metadata": {},
   "outputs": [],
   "source": [
    "wild2_mature = wild2[wild2['annotation'] == 'mOSN']\n",
    "wild2_immature = wild2[wild2['annotation'] == 'iOSN']"
   ]
  },
  {
   "cell_type": "code",
   "execution_count": 94,
   "metadata": {},
   "outputs": [],
   "source": [
    "a = wild2_mature['Unnamed: 0'].tolist()\n",
    "ad = [sub[:-8] for sub in a]\n",
    "add = [sub + '_WT2' for sub in ad]\n",
    "wild2_mature.index = add"
   ]
  },
  {
   "cell_type": "code",
   "execution_count": 96,
   "metadata": {},
   "outputs": [],
   "source": [
    "wild2_mature.to_csv('wild2_mature.csv')"
   ]
  },
  {
   "cell_type": "code",
   "execution_count": 97,
   "metadata": {},
   "outputs": [],
   "source": [
    "a = wild2_immature['Unnamed: 0'].tolist()\n",
    "ad = [sub[:-8] for sub in a]\n",
    "add = [sub + '_WT2' for sub in ad]\n",
    "wild2_immature.index = add"
   ]
  },
  {
   "cell_type": "code",
   "execution_count": 98,
   "metadata": {},
   "outputs": [],
   "source": [
    "wild2_immature.to_csv('wild2_immature.csv')"
   ]
  },
  {
   "cell_type": "markdown",
   "metadata": {},
   "source": [
    "WILD3"
   ]
  },
  {
   "cell_type": "code",
   "execution_count": 99,
   "metadata": {},
   "outputs": [],
   "source": [
    "wild3 = meta[meta['orig.ident'] == 'WT_3']"
   ]
  },
  {
   "cell_type": "code",
   "execution_count": 100,
   "metadata": {},
   "outputs": [],
   "source": [
    "wild3_mature = wild3[wild3['annotation'] == 'mOSN']\n",
    "wild3_immature = wild3[wild3['annotation'] == 'iOSN']"
   ]
  },
  {
   "cell_type": "code",
   "execution_count": 102,
   "metadata": {},
   "outputs": [],
   "source": [
    "a = wild3_mature['Unnamed: 0'].tolist()\n",
    "ad = [sub[:-6] for sub in a]\n",
    "add = [sub + '_WT3' for sub in ad]\n",
    "wild3_mature.index = add"
   ]
  },
  {
   "cell_type": "code",
   "execution_count": 103,
   "metadata": {},
   "outputs": [],
   "source": [
    "wild3_mature.to_csv('wild3_mature.csv')"
   ]
  },
  {
   "cell_type": "code",
   "execution_count": 104,
   "metadata": {},
   "outputs": [],
   "source": [
    "a = wild3_immature['Unnamed: 0'].tolist()\n",
    "ad = [sub[:-6] for sub in a]\n",
    "add = [sub + '_WT3' for sub in ad]\n",
    "wild3_immature.index = add"
   ]
  },
  {
   "cell_type": "code",
   "execution_count": 105,
   "metadata": {},
   "outputs": [],
   "source": [
    "wild3_immature.to_csv('wild3_immature.csv')"
   ]
  },
  {
   "cell_type": "markdown",
   "metadata": {},
   "source": [
    "WILD4"
   ]
  },
  {
   "cell_type": "code",
   "execution_count": 109,
   "metadata": {},
   "outputs": [],
   "source": [
    "wild4 = meta[meta['orig.ident'] == 'WT_4']"
   ]
  },
  {
   "cell_type": "code",
   "execution_count": 110,
   "metadata": {},
   "outputs": [],
   "source": [
    "wild4_mature = wild4[wild4['annotation'] == 'mOSN']\n",
    "wild4_immature = wild4[wild4['annotation'] == 'iOSN']"
   ]
  },
  {
   "cell_type": "code",
   "execution_count": 112,
   "metadata": {},
   "outputs": [],
   "source": [
    "a = wild4_mature['Unnamed: 0'].tolist()\n",
    "ad = [sub[:-6] for sub in a]\n",
    "add = [sub + '_WT4' for sub in ad]\n",
    "wild4_mature.index = add"
   ]
  },
  {
   "cell_type": "code",
   "execution_count": 113,
   "metadata": {},
   "outputs": [],
   "source": [
    "wild4_mature.to_csv('wild4_mature.csv')"
   ]
  },
  {
   "cell_type": "code",
   "execution_count": 114,
   "metadata": {},
   "outputs": [],
   "source": [
    "a = wild4_immature['Unnamed: 0'].tolist()\n",
    "ad = [sub[:-6] for sub in a]\n",
    "add = [sub + '_WT4' for sub in ad]\n",
    "wild4_immature.index = add"
   ]
  },
  {
   "cell_type": "code",
   "execution_count": 115,
   "metadata": {},
   "outputs": [],
   "source": [
    "wild4_immature.to_csv('wild4_immature.csv')"
   ]
  },
  {
   "cell_type": "code",
   "execution_count": 116,
   "metadata": {},
   "outputs": [],
   "source": [
    "wild_immature = [wild1_immature, wild2_immature, wild3_immature, wild4_immature]"
   ]
  },
  {
   "cell_type": "code",
   "execution_count": 117,
   "metadata": {},
   "outputs": [],
   "source": [
    "wild_immaturee = pd.concat(wild_immature)\n",
    "wild_immaturee.to_csv('wild_immature.csv')"
   ]
  },
  {
   "cell_type": "code",
   "execution_count": 118,
   "metadata": {},
   "outputs": [],
   "source": [
    "wild_mature = [wild1_mature, wild2_mature, wild3_mature, wild4_mature]"
   ]
  },
  {
   "cell_type": "code",
   "execution_count": 119,
   "metadata": {},
   "outputs": [],
   "source": [
    "wild_maturee = pd.concat(wild_mature)\n",
    "wild_maturee.to_csv('wild_mature.csv')"
   ]
  },
  {
   "cell_type": "code",
   "execution_count": null,
   "metadata": {},
   "outputs": [],
   "source": []
  }
 ],
 "metadata": {
  "kernelspec": {
   "display_name": "Python 3",
   "language": "python",
   "name": "python3"
  },
  "language_info": {
   "codemirror_mode": {
    "name": "ipython",
    "version": 3
   },
   "file_extension": ".py",
   "mimetype": "text/x-python",
   "name": "python",
   "nbconvert_exporter": "python",
   "pygments_lexer": "ipython3",
   "version": "3.8.5"
  }
 },
 "nbformat": 4,
 "nbformat_minor": 2
}
