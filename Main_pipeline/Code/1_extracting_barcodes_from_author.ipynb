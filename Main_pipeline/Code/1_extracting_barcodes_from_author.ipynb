{
 "cells": [
  {
   "cell_type": "code",
   "execution_count": 82,
   "metadata": {},
   "outputs": [],
   "source": [
    "import scvelo as scv\n",
    "import pandas as pd\n",
    "#import velocyto as vcy\n",
    "import time\n",
    "import scipy\n",
    "import pickle\n",
    "import numpy as np\n",
    "import pandas as pd\n",
    "import scanpy as scp\n",
    "import matplotlib\n",
    "import seaborn as sns\n",
    "import matplotlib.pyplot as plt"
   ]
  },
  {
   "cell_type": "code",
   "execution_count": 83,
   "metadata": {},
   "outputs": [],
   "source": [
    "import os\n",
    "os.chdir('/home/sidrah19220/nmd/loomfiles/authordata')"
   ]
  },
  {
   "cell_type": "code",
   "execution_count": 84,
   "metadata": {},
   "outputs": [],
   "source": [
    "meta = pd.read_csv('metadata 01272021.csv')"
   ]
  },
  {
   "cell_type": "markdown",
   "metadata": {},
   "source": [
    "wild_1"
   ]
  },
  {
   "cell_type": "code",
   "execution_count": 85,
   "metadata": {},
   "outputs": [],
   "source": [
    "wild1 = meta[meta['orig.ident'] == 'WT_1']"
   ]
  },
  {
   "cell_type": "code",
   "execution_count": 86,
   "metadata": {},
   "outputs": [],
   "source": [
    "wild1_mature = wild1[wild1['annotation'] == 'mOSN']\n",
    "wild1_immature = wild1[wild1['annotation'] == 'iOSN']"
   ]
  },
  {
   "cell_type": "code",
   "execution_count": 87,
   "metadata": {},
   "outputs": [],
   "source": [
    "a = wild1_mature['Unnamed: 0'].tolist()\n",
    "ad = [sub[:-8] for sub in a]\n",
    "add = [sub + '_WT1' for sub in ad]\n",
    "wild1_mature.index = add"
   ]
  },
  {
   "cell_type": "code",
   "execution_count": 88,
   "metadata": {},
   "outputs": [],
   "source": [
    "wild1_mature.to_csv('wild1_mature.csv')"
   ]
  },
  {
   "cell_type": "code",
   "execution_count": 89,
   "metadata": {},
   "outputs": [],
   "source": [
    "a = wild1_immature['Unnamed: 0'].tolist()\n",
    "ad = [sub[:-8] for sub in a]\n",
    "add = [sub + '_WT1' for sub in ad]\n",
    "wild1_immature.index = add"
   ]
  },
  {
   "cell_type": "code",
   "execution_count": 90,
   "metadata": {},
   "outputs": [],
   "source": [
    "wild1_immature.to_csv('wild1_immature.csv')"
   ]
  },
  {
   "cell_type": "markdown",
   "metadata": {},
   "source": [
    "WILD2"
   ]
  },
  {
   "cell_type": "code",
   "execution_count": 92,
   "metadata": {},
   "outputs": [],
   "source": [
    "wild2 = meta[meta['orig.ident'] == 'WT_2']"
   ]
  },
  {
   "cell_type": "code",
   "execution_count": 93,
   "metadata": {},
   "outputs": [],
   "source": [
    "wild2_mature = wild2[wild2['annotation'] == 'mOSN']\n",
    "wild2_immature = wild2[wild2['annotation'] == 'iOSN']"
   ]
  },
  {
   "cell_type": "code",
   "execution_count": 94,
   "metadata": {},
   "outputs": [],
   "source": [
    "a = wild2_mature['Unnamed: 0'].tolist()\n",
    "ad = [sub[:-8] for sub in a]\n",
    "add = [sub + '_WT2' for sub in ad]\n",
    "wild2_mature.index = add"
   ]
  },
  {
   "cell_type": "code",
   "execution_count": 96,
   "metadata": {},
   "outputs": [],
   "source": [
    "wild2_mature.to_csv('wild2_mature.csv')"
   ]
  },
  {
   "cell_type": "code",
   "execution_count": 97,
   "metadata": {},
   "outputs": [],
   "source": [
    "a = wild2_immature['Unnamed: 0'].tolist()\n",
    "ad = [sub[:-8] for sub in a]\n",
    "add = [sub + '_WT2' for sub in ad]\n",
    "wild2_immature.index = add"
   ]
  },
  {
   "cell_type": "code",
   "execution_count": 98,
   "metadata": {},
   "outputs": [],
   "source": [
    "wild2_immature.to_csv('wild2_immature.csv')"
   ]
  },
  {
   "cell_type": "markdown",
   "metadata": {},
   "source": [
    "WILD3"
   ]
  },
  {
   "cell_type": "code",
   "execution_count": 99,
   "metadata": {},
   "outputs": [],
   "source": [
    "wild3 = meta[meta['orig.ident'] == 'WT_3']"
   ]
  },
  {
   "cell_type": "code",
   "execution_count": 100,
   "metadata": {},
   "outputs": [],
   "source": [
    "wild3_mature = wild3[wild3['annotation'] == 'mOSN']\n",
    "wild3_immature = wild3[wild3['annotation'] == 'iOSN']"
   ]
  },
  {
   "cell_type": "code",
   "execution_count": 102,
   "metadata": {},
   "outputs": [],
   "source": [
    "a = wild3_mature['Unnamed: 0'].tolist()\n",
    "ad = [sub[:-6] for sub in a]\n",
    "add = [sub + '_WT3' for sub in ad]\n",
    "wild3_mature.index = add"
   ]
  },
  {
   "cell_type": "code",
   "execution_count": 103,
   "metadata": {},
   "outputs": [],
   "source": [
    "wild3_mature.to_csv('wild3_mature.csv')"
   ]
  },
  {
   "cell_type": "code",
   "execution_count": 104,
   "metadata": {},
   "outputs": [],
   "source": [
    "a = wild3_immature['Unnamed: 0'].tolist()\n",
    "ad = [sub[:-6] for sub in a]\n",
    "add = [sub + '_WT3' for sub in ad]\n",
    "wild3_immature.index = add"
   ]
  },
  {
   "cell_type": "code",
   "execution_count": 105,
   "metadata": {},
   "outputs": [],
   "source": [
    "wild3_immature.to_csv('wild3_immature.csv')"
   ]
  },
  {
   "cell_type": "markdown",
   "metadata": {},
   "source": [
    "WILD4"
   ]
  },
  {
   "cell_type": "code",
   "execution_count": 109,
   "metadata": {},
   "outputs": [],
   "source": [
    "wild4 = meta[meta['orig.ident'] == 'WT_4']"
   ]
  },
  {
   "cell_type": "code",
   "execution_count": 110,
   "metadata": {},
   "outputs": [],
   "source": [
    "wild4_mature = wild4[wild4['annotation'] == 'mOSN']\n",
    "wild4_immature = wild4[wild4['annotation'] == 'iOSN']"
   ]
  },
  {
   "cell_type": "code",
   "execution_count": 112,
   "metadata": {},
   "outputs": [],
   "source": [
    "a = wild4_mature['Unnamed: 0'].tolist()\n",
    "ad = [sub[:-6] for sub in a]\n",
    "add = [sub + '_WT4' for sub in ad]\n",
    "wild4_mature.index = add"
   ]
  },
  {
   "cell_type": "code",
   "execution_count": 113,
   "metadata": {},
   "outputs": [],
   "source": [
    "wild4_mature.to_csv('wild4_mature.csv')"
   ]
  },
  {
   "cell_type": "code",
   "execution_count": 114,
   "metadata": {},
   "outputs": [],
   "source": [
    "a = wild4_immature['Unnamed: 0'].tolist()\n",
    "ad = [sub[:-6] for sub in a]\n",
    "add = [sub + '_WT4' for sub in ad]\n",
    "wild4_immature.index = add"
   ]
  },
  {
   "cell_type": "code",
   "execution_count": 115,
   "metadata": {},
   "outputs": [],
   "source": [
    "wild4_immature.to_csv('wild4_immature.csv')"
   ]
  },
  {
   "cell_type": "code",
   "execution_count": 116,
   "metadata": {},
   "outputs": [],
   "source": [
    "wild_immature = [wild1_immature, wild2_immature, wild3_immature, wild4_immature]"
   ]
  },
  {
   "cell_type": "code",
   "execution_count": 117,
   "metadata": {},
   "outputs": [],
   "source": [
    "wild_immaturee = pd.concat(wild_immature)\n",
    "wild_immaturee.to_csv('wild_immature.csv')"
   ]
  },
  {
   "cell_type": "code",
   "execution_count": 118,
   "metadata": {},
   "outputs": [],
   "source": [
    "wild_mature = [wild1_mature, wild2_mature, wild3_mature, wild4_mature]"
   ]
  },
  {
   "cell_type": "code",
   "execution_count": 119,
   "metadata": {},
   "outputs": [],
   "source": [
    "wild_maturee = pd.concat(wild_mature)\n",
    "wild_maturee.to_csv('wild_mature.csv')"
   ]
  },
  {
   "cell_type": "markdown",
   "metadata": {},
   "source": [
    "**KNOCK**"
   ]
  },
  {
   "cell_type": "markdown",
   "metadata": {},
   "source": [
    "KNOCK1"
   ]
  },
  {
   "cell_type": "code",
   "execution_count": 48,
   "metadata": {},
   "outputs": [],
   "source": [
    "knock1 = meta[meta['orig.ident'] == 'KO_1']"
   ]
  },
  {
   "cell_type": "code",
   "execution_count": 49,
   "metadata": {},
   "outputs": [],
   "source": [
    "knock1_mature = knock1[knock1['annotation'] == 'mOSN']\n",
    "knock1_immature = knock1[knock1['annotation'] == 'iOSN']"
   ]
  },
  {
   "cell_type": "code",
   "execution_count": 51,
   "metadata": {},
   "outputs": [],
   "source": [
    "a = knock1_mature['Unnamed: 0'].tolist()\n",
    "ad = [sub[:-4] for sub in a]\n",
    "add = [sub + '_KO1' for sub in ad]\n",
    "knock1_mature.index = add"
   ]
  },
  {
   "cell_type": "code",
   "execution_count": 52,
   "metadata": {},
   "outputs": [],
   "source": [
    "knock1_mature.to_csv('knock1_mature.csv')"
   ]
  },
  {
   "cell_type": "code",
   "execution_count": 54,
   "metadata": {},
   "outputs": [],
   "source": [
    "a = knock1_immature['Unnamed: 0'].tolist()\n",
    "ad = [sub[:-4] for sub in a]\n",
    "add = [sub + '_KO1' for sub in ad]\n",
    "knock1_immature.index = add"
   ]
  },
  {
   "cell_type": "code",
   "execution_count": 55,
   "metadata": {},
   "outputs": [],
   "source": [
    "knock1_immature.to_csv('knock1_immature.csv')"
   ]
  },
  {
   "cell_type": "markdown",
   "metadata": {},
   "source": [
    "KNOCK2"
   ]
  },
  {
   "cell_type": "code",
   "execution_count": 56,
   "metadata": {},
   "outputs": [],
   "source": [
    "knock2 = meta[meta['orig.ident'] == 'KO_2']"
   ]
  },
  {
   "cell_type": "code",
   "execution_count": 58,
   "metadata": {},
   "outputs": [],
   "source": [
    "knock2_mature = knock2[knock2['annotation'] == 'mOSN']\n",
    "knock2_immature = knock2[knock2['annotation'] == 'iOSN']"
   ]
  },
  {
   "cell_type": "code",
   "execution_count": 59,
   "metadata": {},
   "outputs": [],
   "source": [
    "a = knock2_mature['Unnamed: 0'].tolist()\n",
    "ad = [sub[:-4] for sub in a]\n",
    "add = [sub + '_KO2' for sub in ad]\n",
    "knock2_mature.index = add"
   ]
  },
  {
   "cell_type": "code",
   "execution_count": 60,
   "metadata": {},
   "outputs": [],
   "source": [
    "knock2_mature.to_csv('knock2_mature.csv')"
   ]
  },
  {
   "cell_type": "code",
   "execution_count": 61,
   "metadata": {},
   "outputs": [],
   "source": [
    "a = knock2_immature['Unnamed: 0'].tolist()\n",
    "ad = [sub[:-4] for sub in a]\n",
    "add = [sub + '_KO2' for sub in ad]\n",
    "knock2_immature.index = add"
   ]
  },
  {
   "cell_type": "code",
   "execution_count": 62,
   "metadata": {},
   "outputs": [],
   "source": [
    "knock2_immature.to_csv('knock2_immature.csv')"
   ]
  },
  {
   "cell_type": "markdown",
   "metadata": {},
   "source": [
    "KNOCK3"
   ]
  },
  {
   "cell_type": "code",
   "execution_count": 64,
   "metadata": {},
   "outputs": [],
   "source": [
    "knock3 = meta[meta['orig.ident'] == 'KO_3']"
   ]
  },
  {
   "cell_type": "code",
   "execution_count": 65,
   "metadata": {},
   "outputs": [],
   "source": [
    "knock3_mature = knock3[knock3['annotation'] == 'mOSN']\n",
    "knock3_immature = knock3[knock3['annotation'] == 'iOSN']"
   ]
  },
  {
   "cell_type": "code",
   "execution_count": 67,
   "metadata": {},
   "outputs": [],
   "source": [
    "a = knock3_mature['Unnamed: 0'].tolist()\n",
    "ad = [sub[:-2] for sub in a]\n",
    "add = [sub + '_KO3' for sub in ad]\n",
    "knock3_mature.index = add"
   ]
  },
  {
   "cell_type": "code",
   "execution_count": 68,
   "metadata": {},
   "outputs": [],
   "source": [
    "knock3_mature.to_csv('knock3_mature.csv')"
   ]
  },
  {
   "cell_type": "code",
   "execution_count": 69,
   "metadata": {},
   "outputs": [],
   "source": [
    "a = knock3_immature['Unnamed: 0'].tolist()\n",
    "ad = [sub[:-2] for sub in a]\n",
    "add = [sub + '_KO3' for sub in ad]\n",
    "knock3_immature.index = add"
   ]
  },
  {
   "cell_type": "code",
   "execution_count": 71,
   "metadata": {},
   "outputs": [],
   "source": [
    "knock3_immature.to_csv('knock3_immature.csv')"
   ]
  },
  {
   "cell_type": "markdown",
   "metadata": {},
   "source": [
    "KNOCK4"
   ]
  },
  {
   "cell_type": "code",
   "execution_count": 72,
   "metadata": {},
   "outputs": [],
   "source": [
    "knock4 = meta[meta['orig.ident'] == 'KO_4']"
   ]
  },
  {
   "cell_type": "code",
   "execution_count": 73,
   "metadata": {},
   "outputs": [],
   "source": [
    "knock4_mature = knock4[knock4['annotation'] == 'mOSN']\n",
    "knock4_immature = knock4[knock4['annotation'] == 'iOSN']"
   ]
  },
  {
   "cell_type": "code",
   "execution_count": 75,
   "metadata": {},
   "outputs": [],
   "source": [
    "a = knock4_mature['Unnamed: 0'].tolist()\n",
    "ad = [sub[:-2] for sub in a]\n",
    "add = [sub + '_KO4' for sub in ad]\n",
    "knock4_mature.index = add"
   ]
  },
  {
   "cell_type": "code",
   "execution_count": 76,
   "metadata": {},
   "outputs": [],
   "source": [
    "knock4_mature.to_csv('knock4_mature.csv')"
   ]
  },
  {
   "cell_type": "code",
   "execution_count": 78,
   "metadata": {},
   "outputs": [],
   "source": [
    "a = knock4_immature['Unnamed: 0'].tolist()\n",
    "ad = [sub[:-2] for sub in a]\n",
    "add = [sub + '_KO4' for sub in ad]\n",
    "knock4_immature.index = add"
   ]
  },
  {
   "cell_type": "code",
   "execution_count": 79,
   "metadata": {},
   "outputs": [],
   "source": [
    "knock4_immature.to_csv('knock4_immature.csv')"
   ]
  },
  {
   "cell_type": "code",
   "execution_count": 80,
   "metadata": {},
   "outputs": [],
   "source": [
    "knock_immature = [knock1_immature, knock2_immature, knock3_immature, knock4_immature]\n",
    "knock_immaturee = pd.concat(knock_immature)\n",
    "knock_immaturee.to_csv('knock_immature.csv')"
   ]
  },
  {
   "cell_type": "code",
   "execution_count": 81,
   "metadata": {},
   "outputs": [],
   "source": [
    "knock_mature = [knock1_mature, knock2_mature, knock3_mature, knock4_mature]\n",
    "knock_maturee = pd.concat(knock_mature)\n",
    "knock_maturee.to_csv('knock_mature.csv')"
   ]
  },
  {
   "cell_type": "code",
   "execution_count": null,
   "metadata": {},
   "outputs": [],
   "source": []
  }
 ],
 "metadata": {
  "kernelspec": {
   "display_name": "Python 3",
   "language": "python",
   "name": "python3"
  },
  "language_info": {
   "codemirror_mode": {
    "name": "ipython",
    "version": 3
   },
   "file_extension": ".py",
   "mimetype": "text/x-python",
   "name": "python",
   "nbconvert_exporter": "python",
   "pygments_lexer": "ipython3",
   "version": "3.8.5"
  }
 },
 "nbformat": 4,
 "nbformat_minor": 2
}
