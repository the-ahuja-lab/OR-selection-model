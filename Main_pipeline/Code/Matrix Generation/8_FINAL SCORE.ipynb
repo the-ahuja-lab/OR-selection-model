{
 "cells": [
  {
   "cell_type": "code",
   "execution_count": 1,
   "metadata": {},
   "outputs": [],
   "source": [
    "import numpy as np\n",
    "import os\n",
    "import pandas as pd\n",
    "import seaborn as sns\n",
    "import matplotlib.pyplot as plt"
   ]
  },
  {
   "cell_type": "code",
   "execution_count": 2,
   "metadata": {},
   "outputs": [],
   "source": [
    "#CHANGE DIRECTORY\n",
    "os.chdir(\"/home/sidrah19220/nmd/loomfiles/wild\")"
   ]
  },
  {
   "cell_type": "markdown",
   "metadata": {},
   "source": [
    "EUCLIDEAN DISTANCE"
   ]
  },
  {
   "cell_type": "code",
   "execution_count": 3,
   "metadata": {},
   "outputs": [],
   "source": [
    "#READ EUCLIDEAN DISTANCE FILE THAT IS SQUARE MATRIX\n",
    "ec = pd.read_csv('euclidean.csv', index_col = 0)"
   ]
  },
  {
   "cell_type": "code",
   "execution_count": 6,
   "metadata": {},
   "outputs": [],
   "source": [
    "#MAKE A LIST OF MATURE CELL ID\n",
    "c1 = [\"MATURE CELL\"+str(i) for i in range(1,2251)]"
   ]
  },
  {
   "cell_type": "code",
   "execution_count": 7,
   "metadata": {},
   "outputs": [],
   "source": [
    "#REMOVE THE mOSN FROM COLUMNS AS WE NEED TO HAVE DISTANCE OF mOSN TO iOSN\n",
    "ec.drop(c1, axis = 'columns', inplace = True)"
   ]
  },
  {
   "cell_type": "code",
   "execution_count": 8,
   "metadata": {},
   "outputs": [],
   "source": [
    "#MAKE A LIST OF IMMATURE AND TRANSITION CELL ID\n",
    "c1 = [\"IMT CELL\"+str(i) for i in range(1,309)]\n",
    "c3 = [\"IMMATURE CELL\"+str(i) for i in range(1,536)]"
   ]
  },
  {
   "cell_type": "code",
   "execution_count": 9,
   "metadata": {},
   "outputs": [],
   "source": [
    "#REMOVE iOSN AND tOSN ROWS FROM THE MATRIX AS ONLY mIOSNs ARE NEEDED IN ROWS\n",
    "ec.drop(c1, axis = 'index', inplace = True)"
   ]
  },
  {
   "cell_type": "code",
   "execution_count": 10,
   "metadata": {},
   "outputs": [],
   "source": [
    "ec.drop(c3, axis = 'index', inplace = True)"
   ]
  },
  {
   "cell_type": "code",
   "execution_count": 11,
   "metadata": {},
   "outputs": [],
   "source": [
    "#SAVE NEW MATRIX WITH mOSN AS ROWS AND iOSNS AND tOSNs AS COLUMNS\n",
    "ecc = ec"
   ]
  },
  {
   "cell_type": "markdown",
   "metadata": {},
   "source": [
    "TRANSCRIPTOMIC"
   ]
  },
  {
   "cell_type": "code",
   "execution_count": 8,
   "metadata": {},
   "outputs": [],
   "source": [
    "#READ PEARSON CORRELATION MATRIX \n",
    "t = pd.read_csv('pearson-correlation-matrix_zscore.csv', index_col = 0)"
   ]
  },
  {
   "cell_type": "code",
   "execution_count": 15,
   "metadata": {},
   "outputs": [],
   "source": [
    "#MAKE A LIST OF MATURE CELL ID\n",
    "c1 = [\"MATURE CELL\"+str(i) for i in range(1,2251)]"
   ]
  },
  {
   "cell_type": "code",
   "execution_count": 16,
   "metadata": {},
   "outputs": [],
   "source": [
    "#REMOVE THE mOSN FROM COLUMNS AS WE NEED TO HAVE DISTANCE OF mOSN TO iOSN\n",
    "t.drop(c1, axis = 'columns', inplace = True)"
   ]
  },
  {
   "cell_type": "code",
   "execution_count": 17,
   "metadata": {},
   "outputs": [],
   "source": [
    "#MAKE A LIST OF iOSN AND tOSN CELL ID\n",
    "c1 = [\"IMT CELL\"+str(i) for i in range(1,309)]\n",
    "c3 = [\"IMMATURE CELL\"+str(i) for i in range(1,536)]"
   ]
  },
  {
   "cell_type": "code",
   "execution_count": 18,
   "metadata": {},
   "outputs": [],
   "source": [
    "#REMOVE iOSN AND tOSN ROWS FROM THE MATRIX AS ONLY mIOSNs ARE NEEDED IN ROWS\n",
    "t.drop(c1, axis = 'index', inplace = True)\n",
    "t.drop(c3, axis = 'index', inplace = True)"
   ]
  },
  {
   "cell_type": "code",
   "execution_count": 19,
   "metadata": {},
   "outputs": [],
   "source": [
    "#SAVE NEW MATRIX WITH mOSN AS ROWS AND iOSNS AND tOSNs AS COLUMNS\n",
    "tt = t"
   ]
  },
  {
   "cell_type": "code",
   "execution_count": 20,
   "metadata": {},
   "outputs": [
    {
     "data": {
      "text/plain": [
       "(2490, 415)"
      ]
     },
     "execution_count": 20,
     "metadata": {},
     "output_type": "execute_result"
    }
   ],
   "source": [
    "tt.shape"
   ]
  },
  {
   "cell_type": "markdown",
   "metadata": {},
   "source": [
    "EXPRESSION MATRIX"
   ]
  },
  {
   "cell_type": "code",
   "execution_count": 13,
   "metadata": {},
   "outputs": [],
   "source": [
    "#READ EXPRESSION MATRIX\n",
    "expmtx = pd.read_csv('standard_exp.csv', index_col = 0)"
   ]
  },
  {
   "cell_type": "code",
   "execution_count": 24,
   "metadata": {},
   "outputs": [],
   "source": [
    "#FILTER GENE NAMES THAT ARE NOT OLFACTORY RECEPTORS\n",
    "exppm = expmtx.filter(like='Olfr', axis=1)"
   ]
  },
  {
   "cell_type": "code",
   "execution_count": 26,
   "metadata": {},
   "outputs": [],
   "source": [
    "#SAVE THE MATRICES\n",
    "exppm.to_csv('matrix-5-Expression.csv')\n",
    "uss.to_csv('matrix-3-Unspliced-spliced.csv')\n",
    "tt.to_csv('matrix-2-transcriptome-correlation.csv')\n",
    "ecc.to_csv('matrix-1-euclidean-correlation.csv')"
   ]
  }
 ],
 "metadata": {
  "kernelspec": {
   "display_name": "Python 3",
   "language": "python",
   "name": "python3"
  },
  "language_info": {
   "codemirror_mode": {
    "name": "ipython",
    "version": 3
   },
   "file_extension": ".py",
   "mimetype": "text/x-python",
   "name": "python",
   "nbconvert_exporter": "python",
   "pygments_lexer": "ipython3",
   "version": "3.8.5"
  }
 },
 "nbformat": 4,
 "nbformat_minor": 2
}
