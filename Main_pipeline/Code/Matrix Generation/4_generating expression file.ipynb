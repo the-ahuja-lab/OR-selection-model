{
 "cells": [
  {
   "cell_type": "code",
   "execution_count": 1,
   "metadata": {},
   "outputs": [],
   "source": [
    "import numpy as np\n",
    "import os\n",
    "import pandas as pd\n",
    "import seaborn as sns\n",
    "import matplotlib.pyplot as plt"
   ]
  },
  {
   "cell_type": "code",
   "execution_count": 2,
   "metadata": {},
   "outputs": [],
   "source": [
    "os.chdir('/home/sidrah19220/nmd/loomfiles/expressionfile/wild')"
   ]
  },
  {
   "cell_type": "markdown",
   "metadata": {},
   "source": [
    "wild type"
   ]
  },
  {
   "cell_type": "code",
   "execution_count": 3,
   "metadata": {},
   "outputs": [],
   "source": [
    "#reading wild type raw data for each replicate\n",
    "w1 = pd.read_csv('wt1.csv', index_col = 0)\n",
    "w2 = pd.read_csv('wt2.csv', index_col = 0)\n",
    "w3 = pd.read_csv('wt3.csv', index_col = 0)\n",
    "w4 = pd.read_csv('wt4.csv', index_col = 0)"
   ]
  },
  {
   "cell_type": "markdown",
   "metadata": {},
   "source": [
    "WILD 1"
   ]
  },
  {
   "cell_type": "code",
   "execution_count": 5,
   "metadata": {},
   "outputs": [],
   "source": [
    "#adding annotation for wild type 1\n",
    "wt1 = w1.T\n",
    "ind1 = wt1.index.tolist()\n",
    "w = [sub[: -2] for sub in ind1]\n",
    "w = [sub + '_WT1' for sub in w]\n",
    "wt1.index = w\n",
    "wt1.to_csv('wild1.csv')"
   ]
  },
  {
   "cell_type": "markdown",
   "metadata": {},
   "source": [
    "WILD 2"
   ]
  },
  {
   "cell_type": "code",
   "execution_count": 9,
   "metadata": {},
   "outputs": [],
   "source": [
    "#adding annotation for wild type 2\n",
    "wt2 = w2.T\n",
    "ind2 = wt2.index.tolist()\n",
    "w = [sub[: -2] for sub in ind2]\n",
    "w = [sub + '_WT2' for sub in w]\n",
    "wt2.index = w\n",
    "wt2.to_csv('wild2.csv')"
   ]
  },
  {
   "cell_type": "markdown",
   "metadata": {},
   "source": [
    "WILD 3"
   ]
  },
  {
   "cell_type": "code",
   "execution_count": 12,
   "metadata": {},
   "outputs": [],
   "source": [
    "#adding annotation for wild type 1\n",
    "wt3 = w3.T\n",
    "ind3 = wt3.index.tolist()\n",
    "w = [sub[: -2] for sub in ind3]\n",
    "w = [sub + '_WT3' for sub in w]\n",
    "wt3.index = w\n",
    "wt3.to_csv('wild3.csv')"
   ]
  },
  {
   "cell_type": "markdown",
   "metadata": {},
   "source": [
    "WILD 4"
   ]
  },
  {
   "cell_type": "code",
   "execution_count": 15,
   "metadata": {},
   "outputs": [],
   "source": [
    "#adding annotation for wild type 1\n",
    "wt4 = w4.T\n",
    "ind4 = wt4.index.tolist()\n",
    "w = [sub[: -2] for sub in ind4]\n",
    "w = [sub + '_WT4' for sub in w]\n",
    "wt4.index = w\n",
    "wt4.to_csv('wild4.csv')"
   ]
  },
  {
   "cell_type": "markdown",
   "metadata": {},
   "source": [
    "CONCAT"
   ]
  },
  {
   "cell_type": "code",
   "execution_count": 18,
   "metadata": {},
   "outputs": [],
   "source": [
    "wild = pd.concat([wt1, wt2, wt3, wt4])"
   ]
  },
  {
   "cell_type": "code",
   "execution_count": 20,
   "metadata": {},
   "outputs": [],
   "source": [
    "wild.to_csv('wild_raw_exp.csv')"
   ]
  },
  {
   "cell_type": "markdown",
   "metadata": {},
   "source": [
    "# Extract expression for correlation"
   ]
  },
  {
   "cell_type": "code",
   "execution_count": 22,
   "metadata": {},
   "outputs": [],
   "source": [
    "#reading barcodes for all cell types\n",
    "wm = pd.read_csv('mature-barcodes.csv')\n",
    "wi = pd.read_csv('immature-barcodes.csv')\n",
    "wt = pd.read_csv('trans-barcodes.csv')"
   ]
  },
  {
   "cell_type": "markdown",
   "metadata": {},
   "source": [
    "MATURE"
   ]
  },
  {
   "cell_type": "code",
   "execution_count": 24,
   "metadata": {},
   "outputs": [],
   "source": [
    "wld = wild.index.tolist()"
   ]
  },
  {
   "cell_type": "code",
   "execution_count": 32,
   "metadata": {},
   "outputs": [],
   "source": [
    "lmat =wm['0'].tolist()"
   ]
  },
  {
   "cell_type": "code",
   "execution_count": 33,
   "metadata": {},
   "outputs": [],
   "source": [
    "df=[]\n",
    "for i in range(len(wld)):\n",
    "    for j in range(len(lmat)):\n",
    "        if (lmat[j] == (wld[i])):\n",
    "            df.append(str(lmat[j]))\n",
    "            "
   ]
  },
  {
   "cell_type": "code",
   "execution_count": 36,
   "metadata": {},
   "outputs": [],
   "source": [
    "wild_mature = wild.loc[df]"
   ]
  },
  {
   "cell_type": "code",
   "execution_count": 37,
   "metadata": {},
   "outputs": [],
   "source": [
    "wild_mature.to_csv('wild_mature_expression.csv')"
   ]
  },
  {
   "cell_type": "markdown",
   "metadata": {},
   "source": [
    "IMMATURE"
   ]
  },
  {
   "cell_type": "code",
   "execution_count": 39,
   "metadata": {},
   "outputs": [],
   "source": [
    "limm =wi['0'].tolist()"
   ]
  },
  {
   "cell_type": "code",
   "execution_count": 40,
   "metadata": {},
   "outputs": [],
   "source": [
    "df=[]\n",
    "for i in range(len(wld)):\n",
    "    for j in range(len(limm)):\n",
    "        if (limm[j] == (wld[i])):\n",
    "            df.append(str(limm[j]))\n",
    "            "
   ]
  },
  {
   "cell_type": "code",
   "execution_count": 41,
   "metadata": {},
   "outputs": [],
   "source": [
    "wild_immature = wild.loc[df]"
   ]
  },
  {
   "cell_type": "code",
   "execution_count": 43,
   "metadata": {},
   "outputs": [],
   "source": [
    "wild_immature.to_csv('wild_immature_expression.csv')"
   ]
  },
  {
   "cell_type": "markdown",
   "metadata": {},
   "source": [
    "TRANSITION"
   ]
  },
  {
   "cell_type": "code",
   "execution_count": 45,
   "metadata": {},
   "outputs": [],
   "source": [
    "wtt =wt['0'].tolist()"
   ]
  },
  {
   "cell_type": "code",
   "execution_count": 46,
   "metadata": {},
   "outputs": [],
   "source": [
    "df=[]\n",
    "for i in range(len(wld)):\n",
    "    for j in range(len(wtt)):\n",
    "        if (wtt[j] == (wld[i])):\n",
    "            df.append(str(wtt[j]))\n",
    "            "
   ]
  },
  {
   "cell_type": "code",
   "execution_count": 47,
   "metadata": {},
   "outputs": [],
   "source": [
    "wild_trans = wild.loc[df]"
   ]
  },
  {
   "cell_type": "code",
   "execution_count": 49,
   "metadata": {},
   "outputs": [],
   "source": [
    "wild_trans.to_csv('wild_trans_expression.csv')"
   ]
  },
  {
   "cell_type": "markdown",
   "metadata": {},
   "source": [
    "For correlation changing barcodes to Cell ID"
   ]
  },
  {
   "cell_type": "code",
   "execution_count": 51,
   "metadata": {},
   "outputs": [],
   "source": [
    "c1 = [\"MATURE CELL\"+str(i) for i in range(1,2251)]\n",
    "wild_mature.index = c1"
   ]
  },
  {
   "cell_type": "code",
   "execution_count": 54,
   "metadata": {},
   "outputs": [],
   "source": [
    "c0 = [\"IMT CELL\"+str(i) for i in range(1,309)]\n",
    "wild_trans.index = c0"
   ]
  },
  {
   "cell_type": "code",
   "execution_count": 55,
   "metadata": {},
   "outputs": [],
   "source": [
    "c = [\"IMMATURE CELL\"+str(i) for i in range(1,536)]\n",
    "wild_immature.index = c"
   ]
  },
  {
   "cell_type": "code",
   "execution_count": 56,
   "metadata": {},
   "outputs": [],
   "source": [
    "f = [wild_mature, wild_trans, wild_immature]\n",
    "ff = pd.concat(f)\n",
    "ff.to_csv('expression-for-correlation.csv')"
   ]
  },
  {
   "cell_type": "code",
   "execution_count": null,
   "metadata": {},
   "outputs": [],
   "source": []
  }
 ],
 "metadata": {
  "kernelspec": {
   "display_name": "Python 3",
   "language": "python",
   "name": "python3"
  },
  "language_info": {
   "codemirror_mode": {
    "name": "ipython",
    "version": 3
   },
   "file_extension": ".py",
   "mimetype": "text/x-python",
   "name": "python",
   "nbconvert_exporter": "python",
   "pygments_lexer": "ipython3",
   "version": "3.8.5"
  }
 },
 "nbformat": 4,
 "nbformat_minor": 4
}
